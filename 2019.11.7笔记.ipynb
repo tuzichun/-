{
 "cells": [
  {
   "cell_type": "code",
   "execution_count": 1,
   "metadata": {},
   "outputs": [
    {
     "name": "stdout",
     "output_type": "stream",
     "text": [
      "Hello,I'm Zhang San.\n"
     ]
    }
   ],
   "source": [
    "class Person:\n",
    "    def set_name(self,name):\n",
    "        self.name = name\n",
    "        \n",
    "    def get_name(self):\n",
    "        return self.name\n",
    "    \n",
    "    def greet(self):\n",
    "        print(\"Hello,I'm {}.\".format(self.name))\n",
    "        \n",
    "zs = Person()\n",
    "zs.set_name('Zhang San')\n",
    "zs.greet()"
   ]
  },
  {
   "cell_type": "code",
   "execution_count": 2,
   "metadata": {},
   "outputs": [
    {
     "name": "stdout",
     "output_type": "stream",
     "text": [
      "Hello,I'm Zhang San.\n",
      "Hello,I'm Li si.\n"
     ]
    }
   ],
   "source": [
    "class Person:\n",
    "    def set_name(self,name):\n",
    "        self.name = name\n",
    "        \n",
    "    def get_name(self):\n",
    "        return self.name\n",
    "    \n",
    "    def greet(self):\n",
    "        print(\"Hello,I'm {}.\".format(self.name))\n",
    "        \n",
    "zs = Person()\n",
    "zs.set_name('Zhang San')\n",
    "zs.greet()\n",
    "ls = Person()\n",
    "ls.set_name('Li si')\n",
    "ls.greet()"
   ]
  },
  {
   "cell_type": "code",
   "execution_count": 7,
   "metadata": {},
   "outputs": [
    {
     "name": "stdout",
     "output_type": "stream",
     "text": [
      "Hello,I'm Zhang San.\n",
      "Hello,I'm Li Si.\n"
     ]
    }
   ],
   "source": [
    "#构造函数\n",
    "class Person:\n",
    "    def __init__(self,name):\n",
    "        self.name = name\n",
    "        \n",
    "    def get_name(self,name):\n",
    "        self.name = name\n",
    "    \n",
    "    def get_name(self):\n",
    "        return self.name\n",
    "    \n",
    "    def greet(self):\n",
    "        print(\"Hello,I'm {}.\".format(self.name))\n",
    "        \n",
    "zs = Person('Zhang San')\n",
    "ls = Person('Li Si')\n",
    "zs.greet()\n",
    "ls.greet()"
   ]
  },
  {
   "cell_type": "code",
   "execution_count": 11,
   "metadata": {},
   "outputs": [
    {
     "name": "stdout",
     "output_type": "stream",
     "text": [
      "Total number of person: 1\n",
      "Total number of person: 2\n",
      "Hello,I'm Zhang San.\n",
      "Hello,I'm Li Si.\n"
     ]
    }
   ],
   "source": [
    "class Person:\n",
    "    count = 0\n",
    "    \n",
    "    def __init__(self,name=None):\n",
    "        self.name = name\n",
    "        Person.count += 1\n",
    "        print('Total number of person: {}'.format(Person.count))\n",
    "        \n",
    "    def get_name(self,name):\n",
    "        self.name = name\n",
    "    \n",
    "    def get_name(self):\n",
    "        return self.name\n",
    "    \n",
    "    def greet(self):\n",
    "        print(\"Hello,I'm {}.\".format(self.name))\n",
    "        \n",
    "zs = Person('Zhang San')\n",
    "ls = Person('Li Si')\n",
    "zs.greet()\n",
    "ls.greet()"
   ]
  },
  {
   "cell_type": "code",
   "execution_count": 12,
   "metadata": {},
   "outputs": [],
   "source": [
    "zs.name = 1"
   ]
  },
  {
   "cell_type": "code",
   "execution_count": 13,
   "metadata": {},
   "outputs": [
    {
     "name": "stdout",
     "output_type": "stream",
     "text": [
      "Hello,I'm 1.\n"
     ]
    }
   ],
   "source": [
    "zs.greet()"
   ]
  },
  {
   "cell_type": "code",
   "execution_count": 34,
   "metadata": {},
   "outputs": [
    {
     "name": "stdout",
     "output_type": "stream",
     "text": [
      "Total number of person: 1\n",
      "Hello,I'm Zhang San.\n",
      "Hello,I'm Zhang San.\n"
     ]
    }
   ],
   "source": [
    "class Person:\n",
    "    count = 0\n",
    "    \n",
    "    def __init__(self,name=None):\n",
    "        self.__name = name\n",
    "        Person.count += 1\n",
    "        print('Total number of person: {}'.format(Person.count))\n",
    "        \n",
    "    def set_name(self,name):\n",
    "        if isinstance(name,str):\n",
    "              self.__name = name\n",
    "        else:\n",
    "            print('Not a valid name.')\n",
    "     \n",
    "    def get_name(self):\n",
    "        return self.__name\n",
    "    \n",
    "    def __greet_once(self):\n",
    "        print(\"Hello,I'm {}.\".format(self.__name))\n",
    "    \n",
    "    def greet(self):\n",
    "        self.__greet_once()\n",
    "        self.__greet_once()\n",
    "        \n",
    "zs = Person('Zhang San')\n",
    "zs.greet()"
   ]
  },
  {
   "cell_type": "code",
   "execution_count": 35,
   "metadata": {},
   "outputs": [
    {
     "name": "stdout",
     "output_type": "stream",
     "text": [
      "Not a valid name.\n"
     ]
    }
   ],
   "source": [
    "zs.set_name(1)"
   ]
  },
  {
   "cell_type": "code",
   "execution_count": 36,
   "metadata": {},
   "outputs": [
    {
     "data": {
      "text/plain": [
       "False"
      ]
     },
     "execution_count": 36,
     "metadata": {},
     "output_type": "execute_result"
    }
   ],
   "source": [
    "isinstance(1,str)"
   ]
  },
  {
   "cell_type": "code",
   "execution_count": 21,
   "metadata": {},
   "outputs": [],
   "source": [
    "zs.name = 'Li Si'"
   ]
  },
  {
   "cell_type": "code",
   "execution_count": 37,
   "metadata": {},
   "outputs": [
    {
     "name": "stdout",
     "output_type": "stream",
     "text": [
      "Hello,I'm Zhang San.\n",
      "Hello,I'm Zhang San.\n"
     ]
    }
   ],
   "source": [
    "zs.greet()"
   ]
  },
  {
   "cell_type": "code",
   "execution_count": 38,
   "metadata": {},
   "outputs": [
    {
     "data": {
      "text/plain": [
       "{'_Person__name': 'Zhang San'}"
      ]
     },
     "execution_count": 38,
     "metadata": {},
     "output_type": "execute_result"
    }
   ],
   "source": [
    "zs.__dict__#双下划线：地位的象征"
   ]
  },
  {
   "cell_type": "code",
   "execution_count": 39,
   "metadata": {},
   "outputs": [
    {
     "name": "stdout",
     "output_type": "stream",
     "text": [
      "Zhang San\n"
     ]
    }
   ],
   "source": [
    "print(zs._Person__name)"
   ]
  },
  {
   "cell_type": "code",
   "execution_count": 40,
   "metadata": {},
   "outputs": [],
   "source": [
    "zs._Person__name = 1"
   ]
  },
  {
   "cell_type": "code",
   "execution_count": 41,
   "metadata": {},
   "outputs": [
    {
     "name": "stdout",
     "output_type": "stream",
     "text": [
      "Hello,I'm 1.\n",
      "Hello,I'm 1.\n"
     ]
    }
   ],
   "source": [
    "zs.greet()"
   ]
  },
  {
   "cell_type": "code",
   "execution_count": 42,
   "metadata": {},
   "outputs": [
    {
     "name": "stdout",
     "output_type": "stream",
     "text": [
      "Total number of person: 2\n"
     ]
    }
   ],
   "source": [
    "zs = Person('Zhang San')\n",
    "zs.__name = 'test'"
   ]
  },
  {
   "cell_type": "code",
   "execution_count": 43,
   "metadata": {},
   "outputs": [
    {
     "data": {
      "text/plain": [
       "{'_Person__name': 'Zhang San', '__name': 'test'}"
      ]
     },
     "execution_count": 43,
     "metadata": {},
     "output_type": "execute_result"
    }
   ],
   "source": [
    "zs.__dict__"
   ]
  },
  {
   "cell_type": "code",
   "execution_count": 44,
   "metadata": {},
   "outputs": [
    {
     "name": "stdout",
     "output_type": "stream",
     "text": [
      "Help on class Person in module __main__:\n",
      "\n",
      "class Person(builtins.object)\n",
      " |  Person(name=None)\n",
      " |  \n",
      " |  Methods defined here:\n",
      " |  \n",
      " |  __init__(self, name=None)\n",
      " |      Initialize self.  See help(type(self)) for accurate signature.\n",
      " |  \n",
      " |  get_name(self)\n",
      " |  \n",
      " |  greet(self)\n",
      " |  \n",
      " |  set_name(self, name)\n",
      " |  \n",
      " |  ----------------------------------------------------------------------\n",
      " |  Data descriptors defined here:\n",
      " |  \n",
      " |  __dict__\n",
      " |      dictionary for instance variables (if defined)\n",
      " |  \n",
      " |  __weakref__\n",
      " |      list of weak references to the object (if defined)\n",
      " |  \n",
      " |  ----------------------------------------------------------------------\n",
      " |  Data and other attributes defined here:\n",
      " |  \n",
      " |  count = 2\n",
      "\n"
     ]
    }
   ],
   "source": [
    "help(Person)"
   ]
  },
  {
   "cell_type": "code",
   "execution_count": 52,
   "metadata": {},
   "outputs": [
    {
     "name": "stdout",
     "output_type": "stream",
     "text": [
      "Hello,I'm Zhang San.\n",
      "Hello,I'm Zhang San.\n"
     ]
    }
   ],
   "source": [
    "#type hint提示，不是一个检查\n",
    "class Person:\n",
    "    ''' This class can be used to represent a person.'''\n",
    "    \n",
    "    def __init__(self,name:str=None):\n",
    "        self.__name = name\n",
    "        \n",
    "    def set_name(self,name:str):\n",
    "        '''Set the name of person. name must be a str.'''\n",
    "        if isinstance(name,str):\n",
    "              self.__name = name\n",
    "        else:\n",
    "            print('Not a valid name.')\n",
    "     \n",
    "    def get_name(self)->str:\n",
    "        '''Returns the name of the person.'''\n",
    "        return self.__name\n",
    "    \n",
    "    def __greet_once(self):\n",
    "        print(\"Hello,I'm {}.\".format(self.__name))\n",
    "    \n",
    "    def greet(self):\n",
    "        self.__greet_once()\n",
    "        self.__greet_once()\n",
    "        \n",
    "zs = Person('Zhang San')\n",
    "zs.greet()"
   ]
  },
  {
   "cell_type": "code",
   "execution_count": 51,
   "metadata": {},
   "outputs": [
    {
     "name": "stdout",
     "output_type": "stream",
     "text": [
      "Help on class Person in module __main__:\n",
      "\n",
      "class Person(builtins.object)\n",
      " |  Person(name: str = None)\n",
      " |  \n",
      " |  This class can be used to represent a person.\n",
      " |  \n",
      " |  Methods defined here:\n",
      " |  \n",
      " |  __init__(self, name: str = None)\n",
      " |      Initialize self.  See help(type(self)) for accurate signature.\n",
      " |  \n",
      " |  get_name(self)\n",
      " |      Returns the name of the person.\n",
      " |  \n",
      " |  greet(self)\n",
      " |  \n",
      " |  set_name(self, name)\n",
      " |      Set the name of person. name must be a str.\n",
      " |  \n",
      " |  ----------------------------------------------------------------------\n",
      " |  Data descriptors defined here:\n",
      " |  \n",
      " |  __dict__\n",
      " |      dictionary for instance variables (if defined)\n",
      " |  \n",
      " |  __weakref__\n",
      " |      list of weak references to the object (if defined)\n",
      "\n"
     ]
    }
   ],
   "source": [
    "help(Person)"
   ]
  },
  {
   "cell_type": "code",
   "execution_count": 49,
   "metadata": {},
   "outputs": [],
   "source": [
    "a = 1\n",
    "a = 'yg'"
   ]
  },
  {
   "cell_type": "code",
   "execution_count": 53,
   "metadata": {},
   "outputs": [
    {
     "data": {
      "text/plain": [
       "'ab'"
      ]
     },
     "execution_count": 53,
     "metadata": {},
     "output_type": "execute_result"
    }
   ],
   "source": [
    "#多态poly morphism\n",
    "'a' + 'b'"
   ]
  },
  {
   "cell_type": "code",
   "execution_count": 54,
   "metadata": {},
   "outputs": [
    {
     "name": "stdout",
     "output_type": "stream",
     "text": [
      "1\n"
     ]
    }
   ],
   "source": [
    "print('hello'.count('e'))"
   ]
  },
  {
   "cell_type": "code",
   "execution_count": 55,
   "metadata": {},
   "outputs": [
    {
     "name": "stdout",
     "output_type": "stream",
     "text": [
      "2\n"
     ]
    }
   ],
   "source": [
    "print([1,2,3,'e','e',4].count('e'))"
   ]
  },
  {
   "cell_type": "code",
   "execution_count": 56,
   "metadata": {},
   "outputs": [
    {
     "name": "stdout",
     "output_type": "stream",
     "text": [
      "1\n",
      "2\n"
     ]
    }
   ],
   "source": [
    "my_list = ['hello',[1,2,3,'e','e',4]]\n",
    "for item in my_list:\n",
    "    print(item.count('e'))"
   ]
  },
  {
   "cell_type": "code",
   "execution_count": 59,
   "metadata": {},
   "outputs": [
    {
     "name": "stdout",
     "output_type": "stream",
     "text": [
      "meow...\n",
      "meow...\n",
      "wang,wang...\n"
     ]
    }
   ],
   "source": [
    "class Cat:\n",
    "    def meow(self):\n",
    "        print('meow...')\n",
    "        \n",
    "class Dog:\n",
    "    def wang(self):\n",
    "        print('wang,wang...')\n",
    "        \n",
    "pets = [Cat()]\n",
    "pets.append(Cat())\n",
    "pets.append(Dog())\n",
    "\n",
    "for item in pets:\n",
    "    if isinstance(item,Cat):\n",
    "        item.meow()\n",
    "    elif isinstance(item,Dog):\n",
    "        item.wang()\n",
    "    else:\n",
    "        pass"
   ]
  },
  {
   "cell_type": "code",
   "execution_count": 60,
   "metadata": {},
   "outputs": [
    {
     "name": "stdout",
     "output_type": "stream",
     "text": [
      "meow...\n",
      "wang,wang...\n",
      "meow...\n"
     ]
    }
   ],
   "source": [
    "class Cat:\n",
    "    def talk(self):\n",
    "        print('meow...')\n",
    "        \n",
    "class Dog:\n",
    "    def talk(self):\n",
    "        print('wang,wang...')\n",
    "        \n",
    "pets = [Cat(),Dog(),Cat()]\n",
    "\n",
    "for item in pets:\n",
    "    item.talk()"
   ]
  },
  {
   "cell_type": "code",
   "execution_count": 62,
   "metadata": {},
   "outputs": [
    {
     "name": "stdout",
     "output_type": "stream",
     "text": [
      "3\n",
      "ab\n"
     ]
    }
   ],
   "source": [
    "def add(a,b):\n",
    "    return a+b\n",
    "\n",
    "a = 1\n",
    "b = 2\n",
    "print(add(a,b))\n",
    "x,y = 'a','b'\n",
    "print(add(x,y))"
   ]
  },
  {
   "cell_type": "code",
   "execution_count": 67,
   "metadata": {},
   "outputs": [
    {
     "name": "stdout",
     "output_type": "stream",
     "text": [
      "Hello,I'm Zhang San.\n",
      "Hello,I'm Zhang San.\n",
      "My score is: 100\n"
     ]
    }
   ],
   "source": [
    "class Student(Person):\n",
    "    def set_score(self, score):\n",
    "        self.__score = score\n",
    "        \n",
    "    def get_score(self):\n",
    "        return self.__score\n",
    "    \n",
    "    def show_score(self):\n",
    "        print('My score is: {}'.format(self.__score))\n",
    "        \n",
    "zs = Student()\n",
    "zs.set_name(\"Zhang San\")\n",
    "zs.set_score(100)\n",
    "zs.greet()\n",
    "zs.show_score()"
   ]
  },
  {
   "cell_type": "code",
   "execution_count": 68,
   "metadata": {},
   "outputs": [
    {
     "name": "stdout",
     "output_type": "stream",
     "text": [
      "Hello,I'm Zhang San.\n",
      "Hello,I'm Zhang San.\n",
      "My score is: 100\n"
     ]
    }
   ],
   "source": [
    "class Student(Person):\n",
    "    def set_score(self, score):\n",
    "        self.__score = score\n",
    "        \n",
    "    def get_score(self):\n",
    "        return self.__score\n",
    "    \n",
    "    def show_score(self):\n",
    "        print('My score is: {}'.format(self.__score))\n",
    "    \n",
    "    def greet(self):\n",
    "        Person.greet(self)\n",
    "        self.show_score()\n",
    "        \n",
    "zs = Student()\n",
    "zs.set_name(\"Zhang San\")\n",
    "zs.set_score(100)\n",
    "zs.greet()\n",
    "# zs.show_score()"
   ]
  },
  {
   "cell_type": "code",
   "execution_count": 69,
   "metadata": {},
   "outputs": [
    {
     "name": "stdout",
     "output_type": "stream",
     "text": [
      "Hello,I'm Zhang San.\n",
      "Hello,I'm Zhang San.\n",
      "Hello,I'm Li Si.\n",
      "Hello,I'm Li Si.\n",
      "My score is: 100\n"
     ]
    }
   ],
   "source": [
    "people = list()\n",
    "zs = Person('Zhang San')\n",
    "ls = Student('Li Si')\n",
    "ls.set_score(100)\n",
    "people.append(zs)\n",
    "people.append(ls)\n",
    "\n",
    "for p in people:\n",
    "    p.greet()"
   ]
  },
  {
   "cell_type": "code",
   "execution_count": null,
   "metadata": {},
   "outputs": [],
   "source": []
  }
 ],
 "metadata": {
  "kernelspec": {
   "display_name": "Python 3",
   "language": "python",
   "name": "python3"
  },
  "language_info": {
   "codemirror_mode": {
    "name": "ipython",
    "version": 3
   },
   "file_extension": ".py",
   "mimetype": "text/x-python",
   "name": "python",
   "nbconvert_exporter": "python",
   "pygments_lexer": "ipython3",
   "version": "3.7.0"
  }
 },
 "nbformat": 4,
 "nbformat_minor": 2
}
