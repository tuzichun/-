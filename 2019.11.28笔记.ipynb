{
 "cells": [
  {
   "cell_type": "code",
   "execution_count": 6,
   "metadata": {},
   "outputs": [],
   "source": [
    "class Rectangle:\n",
    "    def __int__(self):\n",
    "        self.width = 0\n",
    "        self.height = 0\n",
    "        \n",
    "    def set_size(self, size):\n",
    "        assert(size[0] >= 0 and size[1] >= 0)\n",
    "        self.width, self.height = size\n",
    "        \n",
    "    def get_size(self):\n",
    "        return self.width, self.height\n",
    "    \n",
    "    size = property(get_size, set_size)"
   ]
  },
  {
   "cell_type": "code",
   "execution_count": 5,
   "metadata": {},
   "outputs": [
    {
     "name": "stdout",
     "output_type": "stream",
     "text": [
      "(3, 4)\n"
     ]
    }
   ],
   "source": [
    "rect = Rectangle()\n",
    "rect.set_size((3,4))#当宽度设为负数时就不太合理\n",
    "print(rect.get_size())"
   ]
  },
  {
   "cell_type": "code",
   "execution_count": 7,
   "metadata": {},
   "outputs": [
    {
     "name": "stdout",
     "output_type": "stream",
     "text": [
      "(3, 4)\n"
     ]
    }
   ],
   "source": [
    "rect.size = (3,4)\n",
    "print(rect.size)"
   ]
  },
  {
   "cell_type": "code",
   "execution_count": null,
   "metadata": {},
   "outputs": [],
   "source": [
    "class Rectangle:\n",
    "    def __init__(self):\n",
    "        self.__width = 0\n",
    "        self.__height = 0\n",
    "        \n",
    "    def set_size(self, size):\n",
    "        assert(size[0] >= 0 and size[1] >= 0)\n",
    "        self.__width, self.__height = size\n",
    "        \n",
    "    def get_size(self):\n",
    "        return self.__width, self.__height\n",
    "    \n",
    "    size = property(get_size, set_size) \n",
    "    \n",
    "    def get_weight(self):\n",
    "        return self.__width\n",
    "    \n",
    "    def set_width(self,width):\n",
    "        if width < 0: raise ValueError\n",
    "        self.__width = width\n",
    "        \n",
    "    def get_height(self):\n",
    "        return self.__height\n",
    "    \n",
    "    def set_height(self,height):\n",
    "        if height < 0: raise ValueError\n",
    "        self.__height = height\n",
    "        \n",
    "    width = property(get_width, set_width)\n",
    "    height = property(get_height, set_height)"
   ]
  },
  {
   "cell_type": "code",
   "execution_count": 12,
   "metadata": {},
   "outputs": [],
   "source": [
    "rect = Rectangle()\n",
    "rect.weight = -3"
   ]
  },
  {
   "cell_type": "code",
   "execution_count": 14,
   "metadata": {},
   "outputs": [
    {
     "name": "stdout",
     "output_type": "stream",
     "text": [
      "This is a\n",
      "This is a class method of:  <class '__main__.MyClass'>\n"
     ]
    }
   ],
   "source": [
    "class MyClass:\n",
    "    def static_method():\n",
    "        print('This is a')\n",
    "    static_method = staticmethod(static_method)\n",
    "    \n",
    "    def class_method(cls):\n",
    "        print('This is a class method of: ', cls)\n",
    "    class_method = classmethod(class_method)\n",
    "    \n",
    "MyClass.static_method()\n",
    "MyClass.class_method()"
   ]
  },
  {
   "cell_type": "code",
   "execution_count": 15,
   "metadata": {},
   "outputs": [
    {
     "name": "stdout",
     "output_type": "stream",
     "text": [
      "This is a\n",
      "This is a class method of:  <class '__main__.MyClass'>\n"
     ]
    }
   ],
   "source": [
    "class MyClass:\n",
    "    @staticmethod#语法密函，相当于下面井号的内容\n",
    "    def static_method():\n",
    "        print('This is a')\n",
    "    #static_method = staticmethod(static_method)\n",
    "    \n",
    "    @classmethod\n",
    "    def class_method(cls):\n",
    "        print('This is a class method of: ', cls)\n",
    "    #class_method = classmethod(class_method)\n",
    "    \n",
    "MyClass.static_method()\n",
    "MyClass.class_method()"
   ]
  },
  {
   "cell_type": "code",
   "execution_count": null,
   "metadata": {},
   "outputs": [],
   "source": [
    "class Rectangle:\n",
    "    def __init__(self):\n",
    "        self.__width = 0\n",
    "        self.__height = 0\n",
    "    \n",
    "    @property#修饰器\n",
    "    def size(self):\n",
    "        return self.__width, self.__height\n",
    "    \n",
    "    @size.setter\n",
    "    def size(self, size):\n",
    "        assert(size[0] >= 0 and size[1] >= 0)\n",
    "        self.__width, self.__height = size\n",
    "        \n",
    "    #size = property(get_size, set_size) \n",
    "    @property\n",
    "    def weight(self):\n",
    "        return self.__width\n",
    "    \n",
    "    @width.setter\n",
    "    def set_width(self,width):\n",
    "        if width < 0: raise ValueError\n",
    "        self.__width = width\n",
    "    \n",
    "    @property\n",
    "    def height(self):\n",
    "        return self.__height\n",
    "    \n",
    "    @height.setter\n",
    "    def height(self,height):\n",
    "        if height < 0: raise ValueError\n",
    "        self.__height = height"
   ]
  },
  {
   "cell_type": "code",
   "execution_count": null,
   "metadata": {},
   "outputs": [],
   "source": [
    "rect = Rectangle()\n",
    "rect.size = (-3,4)\n",
    "#rect.set_size((-3,4))\n",
    "print(rect.size)"
   ]
  },
  {
   "cell_type": "code",
   "execution_count": 20,
   "metadata": {},
   "outputs": [],
   "source": [
    "class Rectangle:\n",
    "    def __init__(self):\n",
    "        self.width = 0\n",
    "        self.height = 0\n",
    "        \n",
    "    def __setattr__(self,name,value):\n",
    "        if name == 'size':\n",
    "            if value[0] < 0 or value[1] < 0:raise ValueError()\n",
    "            self.width, self.height = value\n",
    "        elif name == 'width':\n",
    "            if value < 0:raise ValueError()\n",
    "            self.width = value\n",
    "        elif name == 'height':\n",
    "            if value < 0:raise ValueError()\n",
    "            self.height = value\n",
    "        else:\n",
    "            self.__dict__[name] = value\n",
    "            \n",
    "    def __getattr__(self, name):\n",
    "        if name == 'size':\n",
    "            return self.width, self.height\n",
    "        else:\n",
    "            return self.__dict__[name]\n",
    "        #raise AttributeError()"
   ]
  },
  {
   "cell_type": "code",
   "execution_count": null,
   "metadata": {},
   "outputs": [],
   "source": [
    "rect = Rectangle()\n",
    "rect.size = (3,4)\n",
    "print(rect,size)"
   ]
  },
  {
   "cell_type": "code",
   "execution_count": 22,
   "metadata": {},
   "outputs": [
    {
     "data": {
      "text/plain": [
       "0.0"
      ]
     },
     "execution_count": 22,
     "metadata": {},
     "output_type": "execute_result"
    }
   ],
   "source": [
    "import math\n",
    "\n",
    "math.sin(0)"
   ]
  },
  {
   "cell_type": "code",
   "execution_count": null,
   "metadata": {},
   "outputs": [],
   "source": [
    "import importlib\n",
    "hello = imporlib.reload(hello2)#写一些python脚本，然后写一些代码和测试代码"
   ]
  },
  {
   "cell_type": "code",
   "execution_count": null,
   "metadata": {},
   "outputs": [],
   "source": [
    "hello"
   ]
  },
  {
   "cell_type": "code",
   "execution_count": null,
   "metadata": {},
   "outputs": [],
   "source": []
  }
 ],
 "metadata": {
  "kernelspec": {
   "display_name": "Python 3",
   "language": "python",
   "name": "python3"
  },
  "language_info": {
   "codemirror_mode": {
    "name": "ipython",
    "version": 3
   },
   "file_extension": ".py",
   "mimetype": "text/x-python",
   "name": "python",
   "nbconvert_exporter": "python",
   "pygments_lexer": "ipython3",
   "version": "3.7.0"
  }
 },
 "nbformat": 4,
 "nbformat_minor": 2
}
