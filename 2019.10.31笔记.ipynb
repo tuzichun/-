{
 "cells": [
  {
   "cell_type": "markdown",
   "metadata": {},
   "source": [
    "# 递归函数"
   ]
  },
  {
   "cell_type": "code",
   "execution_count": 1,
   "metadata": {},
   "outputs": [
    {
     "name": "stdout",
     "output_type": "stream",
     "text": [
      "5 4 3 2 1 "
     ]
    }
   ],
   "source": [
    "def print_num(n):\n",
    "    print(n, end =' ')\n",
    "    if n>1: # 终止条件\n",
    "        print_num(n-1)\n",
    "\n",
    "print_num(5)"
   ]
  },
  {
   "cell_type": "code",
   "execution_count": 2,
   "metadata": {},
   "outputs": [
    {
     "name": "stdout",
     "output_type": "stream",
     "text": [
      "1 2 3 4 5 "
     ]
    }
   ],
   "source": [
    "def print_num(n):\n",
    "    if n>1: # 终止条件\n",
    "        print_num(n-1)\n",
    "    print(n, end =' ')\n",
    "\n",
    "print_num(5)"
   ]
  },
  {
   "cell_type": "code",
   "execution_count": 4,
   "metadata": {},
   "outputs": [
    {
     "data": {
      "text/plain": [
       "24157817"
      ]
     },
     "execution_count": 4,
     "metadata": {},
     "output_type": "execute_result"
    }
   ],
   "source": [
    "def fib(i):\n",
    "    if i==1 or i==0:\n",
    "        return 1\n",
    "    else:\n",
    "        return fib(i-1)+fib(i-2)\n",
    "    \n",
    "fib(36)"
   ]
  },
  {
   "cell_type": "code",
   "execution_count": 5,
   "metadata": {},
   "outputs": [
    {
     "name": "stdout",
     "output_type": "stream",
     "text": [
      "3.86 s ± 162 ms per loop (mean ± std. dev. of 7 runs, 1 loop each)\n"
     ]
    }
   ],
   "source": [
    "%timeit fib(33)"
   ]
  },
  {
   "cell_type": "code",
   "execution_count": 7,
   "metadata": {},
   "outputs": [],
   "source": [
    "# cache缓存技术\n",
    "cache=dict()\n",
    "def fib_cache(i):\n",
    "    global cache # 全局变量\n",
    "    if i in (0,1):\n",
    "        return 1\n",
    "    else:\n",
    "        result = cache.get(i)\n",
    "        if result is None:\n",
    "            result = fib_cache(i-1) + fib_cache(i-2)\n",
    "            cache[i]=result\n",
    "        return result"
   ]
  },
  {
   "cell_type": "code",
   "execution_count": 8,
   "metadata": {},
   "outputs": [
    {
     "name": "stdout",
     "output_type": "stream",
     "text": [
      "649 ns ± 56.2 ns per loop (mean ± std. dev. of 7 runs, 1000000 loops each)\n"
     ]
    }
   ],
   "source": [
    "%timeit fib_cache(33)"
   ]
  },
  {
   "cell_type": "code",
   "execution_count": 9,
   "metadata": {},
   "outputs": [],
   "source": [
    "# cache缓存技术\n",
    "cache={0:0,1:1}\n",
    "def fib_cache(i):\n",
    "    global cache # 全局变量\n",
    "    result = cache.get(i)\n",
    "    if result is None:\n",
    "        result = fib_cache(i-1) + fib_cache(i-2)\n",
    "        cache[i]=result\n",
    "    return result"
   ]
  },
  {
   "cell_type": "code",
   "execution_count": 11,
   "metadata": {},
   "outputs": [
    {
     "ename": "RecursionError",
     "evalue": "maximum recursion depth exceeded",
     "output_type": "error",
     "traceback": [
      "\u001b[1;31m---------------------------------------------------------------------------\u001b[0m",
      "\u001b[1;31mRecursionError\u001b[0m                            Traceback (most recent call last)",
      "\u001b[1;32m<ipython-input-11-f3a9251cd4bf>\u001b[0m in \u001b[0;36m<module>\u001b[1;34m()\u001b[0m\n\u001b[1;32m----> 1\u001b[1;33m \u001b[0mfib_cache\u001b[0m\u001b[1;33m(\u001b[0m\u001b[1;36m5000\u001b[0m\u001b[1;33m)\u001b[0m\u001b[1;33m\u001b[0m\u001b[0m\n\u001b[0m",
      "\u001b[1;32m<ipython-input-9-9a95373b0e3d>\u001b[0m in \u001b[0;36mfib_cache\u001b[1;34m(i)\u001b[0m\n\u001b[0;32m      5\u001b[0m     \u001b[0mresult\u001b[0m \u001b[1;33m=\u001b[0m \u001b[0mcache\u001b[0m\u001b[1;33m.\u001b[0m\u001b[0mget\u001b[0m\u001b[1;33m(\u001b[0m\u001b[0mi\u001b[0m\u001b[1;33m)\u001b[0m\u001b[1;33m\u001b[0m\u001b[0m\n\u001b[0;32m      6\u001b[0m     \u001b[1;32mif\u001b[0m \u001b[0mresult\u001b[0m \u001b[1;32mis\u001b[0m \u001b[1;32mNone\u001b[0m\u001b[1;33m:\u001b[0m\u001b[1;33m\u001b[0m\u001b[0m\n\u001b[1;32m----> 7\u001b[1;33m         \u001b[0mresult\u001b[0m \u001b[1;33m=\u001b[0m \u001b[0mfib_cache\u001b[0m\u001b[1;33m(\u001b[0m\u001b[0mi\u001b[0m\u001b[1;33m-\u001b[0m\u001b[1;36m1\u001b[0m\u001b[1;33m)\u001b[0m \u001b[1;33m+\u001b[0m \u001b[0mfib_cache\u001b[0m\u001b[1;33m(\u001b[0m\u001b[0mi\u001b[0m\u001b[1;33m-\u001b[0m\u001b[1;36m2\u001b[0m\u001b[1;33m)\u001b[0m\u001b[1;33m\u001b[0m\u001b[0m\n\u001b[0m\u001b[0;32m      8\u001b[0m         \u001b[0mcache\u001b[0m\u001b[1;33m[\u001b[0m\u001b[0mi\u001b[0m\u001b[1;33m]\u001b[0m\u001b[1;33m=\u001b[0m\u001b[0mresult\u001b[0m\u001b[1;33m\u001b[0m\u001b[0m\n\u001b[0;32m      9\u001b[0m     \u001b[1;32mreturn\u001b[0m \u001b[0mresult\u001b[0m\u001b[1;33m\u001b[0m\u001b[0m\n",
      "... last 1 frames repeated, from the frame below ...\n",
      "\u001b[1;32m<ipython-input-9-9a95373b0e3d>\u001b[0m in \u001b[0;36mfib_cache\u001b[1;34m(i)\u001b[0m\n\u001b[0;32m      5\u001b[0m     \u001b[0mresult\u001b[0m \u001b[1;33m=\u001b[0m \u001b[0mcache\u001b[0m\u001b[1;33m.\u001b[0m\u001b[0mget\u001b[0m\u001b[1;33m(\u001b[0m\u001b[0mi\u001b[0m\u001b[1;33m)\u001b[0m\u001b[1;33m\u001b[0m\u001b[0m\n\u001b[0;32m      6\u001b[0m     \u001b[1;32mif\u001b[0m \u001b[0mresult\u001b[0m \u001b[1;32mis\u001b[0m \u001b[1;32mNone\u001b[0m\u001b[1;33m:\u001b[0m\u001b[1;33m\u001b[0m\u001b[0m\n\u001b[1;32m----> 7\u001b[1;33m         \u001b[0mresult\u001b[0m \u001b[1;33m=\u001b[0m \u001b[0mfib_cache\u001b[0m\u001b[1;33m(\u001b[0m\u001b[0mi\u001b[0m\u001b[1;33m-\u001b[0m\u001b[1;36m1\u001b[0m\u001b[1;33m)\u001b[0m \u001b[1;33m+\u001b[0m \u001b[0mfib_cache\u001b[0m\u001b[1;33m(\u001b[0m\u001b[0mi\u001b[0m\u001b[1;33m-\u001b[0m\u001b[1;36m2\u001b[0m\u001b[1;33m)\u001b[0m\u001b[1;33m\u001b[0m\u001b[0m\n\u001b[0m\u001b[0;32m      8\u001b[0m         \u001b[0mcache\u001b[0m\u001b[1;33m[\u001b[0m\u001b[0mi\u001b[0m\u001b[1;33m]\u001b[0m\u001b[1;33m=\u001b[0m\u001b[0mresult\u001b[0m\u001b[1;33m\u001b[0m\u001b[0m\n\u001b[0;32m      9\u001b[0m     \u001b[1;32mreturn\u001b[0m \u001b[0mresult\u001b[0m\u001b[1;33m\u001b[0m\u001b[0m\n",
      "\u001b[1;31mRecursionError\u001b[0m: maximum recursion depth exceeded"
     ]
    }
   ],
   "source": [
    "fib_cache(5000)"
   ]
  },
  {
   "cell_type": "code",
   "execution_count": 12,
   "metadata": {},
   "outputs": [],
   "source": [
    "from functools import lru_cache\n",
    "# 装饰器\n",
    "@lru_cache(maxsize=None)\n",
    "\n",
    "def fib(i):\n",
    "    if i==1 or i==0:\n",
    "        return 1\n",
    "    else:\n",
    "        return fib(i-1)+fib(i-2)"
   ]
  },
  {
   "cell_type": "code",
   "execution_count": 13,
   "metadata": {},
   "outputs": [
    {
     "data": {
      "text/plain": [
       "<functools._lru_cache_wrapper at 0x2864d628f60>"
      ]
     },
     "execution_count": 13,
     "metadata": {},
     "output_type": "execute_result"
    }
   ],
   "source": [
    "fib"
   ]
  },
  {
   "cell_type": "code",
   "execution_count": 20,
   "metadata": {},
   "outputs": [
    {
     "name": "stdout",
     "output_type": "stream",
     "text": [
      "A->B\n",
      "A->C\n",
      "B->C\n",
      "A->B\n",
      "C->A\n",
      "C->B\n",
      "A->B\n"
     ]
    }
   ],
   "source": [
    "# 汉诺塔\n",
    "def hanoi(n, source, target, temp):\n",
    "    if n==1:\n",
    "        print('{}->{}'.format(source, target))\n",
    "    else:\n",
    "        hanoi(n-1, source, temp, target)\n",
    "        print('{}->{}'.format(source, target))\n",
    "        hanoi(n-1, temp, target, source)\n",
    "        \n",
    "hanoi(3, 'A', 'B', 'C')"
   ]
  },
  {
   "cell_type": "markdown",
   "metadata": {},
   "source": [
    "# 生成器\n",
    "\n",
    "- range函数\n"
   ]
  },
  {
   "cell_type": "code",
   "execution_count": 21,
   "metadata": {},
   "outputs": [
    {
     "data": {
      "text/plain": [
       "range(0, 10)"
      ]
     },
     "execution_count": 21,
     "metadata": {},
     "output_type": "execute_result"
    }
   ],
   "source": [
    "r = range(0,10)\n",
    "r"
   ]
  },
  {
   "cell_type": "code",
   "execution_count": 27,
   "metadata": {},
   "outputs": [
    {
     "name": "stdout",
     "output_type": "stream",
     "text": [
      "[0, 1, 1, 2, 3, 5, 8]\n"
     ]
    }
   ],
   "source": [
    "def fib(n):\n",
    "    result = [0,1]\n",
    "    second_last = 0\n",
    "    last = 1\n",
    "    for i in range(n-2):\n",
    "        second_last, last = last, second_last+last\n",
    "        result.append(last)\n",
    "    return result\n",
    "\n",
    "print(fib(7))\n",
    "        "
   ]
  },
  {
   "cell_type": "code",
   "execution_count": 28,
   "metadata": {},
   "outputs": [
    {
     "name": "stdout",
     "output_type": "stream",
     "text": [
      "0 1 1 2 3 5 8 13 21 34 "
     ]
    }
   ],
   "source": [
    "def fib_gen(n):\n",
    "    second_last = 0\n",
    "    last = 1\n",
    "    yield 0\n",
    "    yield 1\n",
    "    for i in range(n-2):\n",
    "        second_last, last = last, second_last+last\n",
    "        yield last\n",
    "\n",
    "\n",
    "for i in fib_gen(10):\n",
    "    print(i,end=' ')"
   ]
  },
  {
   "cell_type": "code",
   "execution_count": 33,
   "metadata": {},
   "outputs": [
    {
     "name": "stdout",
     "output_type": "stream",
     "text": [
      "[1, 2, 3, 4, 5, 6]\n"
     ]
    }
   ],
   "source": [
    "nested = [[1,2], [3,4],[5],6]\n",
    "\n",
    "def flatten(nested):\n",
    "    result = list()\n",
    "    for sublist in nested:\n",
    "        try:\n",
    "            for item in sublist:\n",
    "                result.append(item)\n",
    "        except TypeError:\n",
    "            result.append(sublist)\n",
    "    return result\n",
    "\n",
    "flatten_list = flatten(nested)\n",
    "print(flatten_list)"
   ]
  },
  {
   "cell_type": "code",
   "execution_count": 38,
   "metadata": {},
   "outputs": [
    {
     "name": "stdout",
     "output_type": "stream",
     "text": [
      "<generator object flatten at 0x000002864ECDBE60>\n"
     ]
    }
   ],
   "source": [
    "nested = [[1,[2,2.1]], [3,4],[5],6]\n",
    "\n",
    "def flatten(nested):\n",
    "    result = list()\n",
    "    for sublist in nested:\n",
    "        try:\n",
    "            for item in flatten(sublist):\n",
    "                yield item\n",
    "        except TypeError:\n",
    "            yield sublist\n",
    "            \n",
    "flatten_list = flatten(nested)\n",
    "print(flatten_list)"
   ]
  },
  {
   "cell_type": "code",
   "execution_count": 39,
   "metadata": {},
   "outputs": [
    {
     "name": "stdout",
     "output_type": "stream",
     "text": [
      "1 2 2.1 3 4 5 6 "
     ]
    }
   ],
   "source": [
    "for item in flatten_list:\n",
    "    print(item, end=' ')"
   ]
  },
  {
   "cell_type": "code",
   "execution_count": 41,
   "metadata": {},
   "outputs": [],
   "source": [
    "def flatten(nested):\n",
    "    try:\n",
    "        try: nested + \"\"\n",
    "        except TypeError: pass\n",
    "        else: raise TypeError\n",
    "        for sublist in nested:\n",
    "            try:\n",
    "                for item in flatten(sublist):\n",
    "                    yield item\n",
    "            except TypeError:\n",
    "                yield sublist\n",
    "    except TypeError:\n",
    "        yield nested\n",
    "        "
   ]
  },
  {
   "cell_type": "code",
   "execution_count": 42,
   "metadata": {},
   "outputs": [
    {
     "name": "stdout",
     "output_type": "stream",
     "text": [
      "hello 1 2 2.1 3 4 5 6 "
     ]
    }
   ],
   "source": [
    "nested = ['hello', [1,[2,2.1]], [3,4],[5],6]\n",
    "for item in flatten(nested):\n",
    "    print(item, end = ' ')"
   ]
  },
  {
   "cell_type": "code",
   "execution_count": 43,
   "metadata": {},
   "outputs": [
    {
     "data": {
      "text/plain": [
       "['hello', '41', 'x41']"
      ]
     },
     "execution_count": 43,
     "metadata": {},
     "output_type": "execute_result"
    }
   ],
   "source": [
    "def func(x):\n",
    "    return x.isalnum()\n",
    "\n",
    "seq = ['hello', '41', 'x41', '?', '***']\n",
    "list(filter(func, seq)) # filter:对于sequence重点每一个元素调用func，把值为真的元素提取出来"
   ]
  },
  {
   "cell_type": "code",
   "execution_count": 44,
   "metadata": {},
   "outputs": [
    {
     "data": {
      "text/plain": [
       "['hello', '41', 'x41']"
      ]
     },
     "execution_count": 44,
     "metadata": {},
     "output_type": "execute_result"
    }
   ],
   "source": [
    "# 如果只在filter里面用到这个函数，创建匿名函数会更好\n",
    "list(filter(lambda x: x.isalnum(), seq))"
   ]
  },
  {
   "cell_type": "code",
   "execution_count": 45,
   "metadata": {},
   "outputs": [
    {
     "data": {
      "text/plain": [
       "True"
      ]
     },
     "execution_count": 45,
     "metadata": {},
     "output_type": "execute_result"
    }
   ],
   "source": [
    "f = lambda x: x.isalnum()\n",
    "f('hello')"
   ]
  },
  {
   "cell_type": "code",
   "execution_count": 46,
   "metadata": {},
   "outputs": [
    {
     "data": {
      "text/plain": [
       "['hello', '41', 'x41']"
      ]
     },
     "execution_count": 46,
     "metadata": {},
     "output_type": "execute_result"
    }
   ],
   "source": [
    "[x for x in seq if x.isalnum()]"
   ]
  },
  {
   "cell_type": "code",
   "execution_count": 47,
   "metadata": {},
   "outputs": [
    {
     "data": {
      "text/plain": [
       "['0', '1', '2', '3', '4', '5', '6', '7', '8', '9']"
      ]
     },
     "execution_count": 47,
     "metadata": {},
     "output_type": "execute_result"
    }
   ],
   "source": [
    "import functools\n",
    "list(map(str, range(10)))"
   ]
  },
  {
   "cell_type": "code",
   "execution_count": 48,
   "metadata": {},
   "outputs": [
    {
     "data": {
      "text/plain": [
       "['0', '1', '2', '3', '4', '5', '6', '7', '8', '9']"
      ]
     },
     "execution_count": 48,
     "metadata": {},
     "output_type": "execute_result"
    }
   ],
   "source": [
    "[str(i) for i in range(10)]"
   ]
  },
  {
   "cell_type": "code",
   "execution_count": 49,
   "metadata": {},
   "outputs": [
    {
     "data": {
      "text/plain": [
       "28"
      ]
     },
     "execution_count": 49,
     "metadata": {},
     "output_type": "execute_result"
    }
   ],
   "source": [
    "from functools import reduce\n",
    "numbers = [1, 2, 5, 8, 3, 9]\n",
    "reduce(lambda x,y:x+y, numbers) # reduce:并行化计算"
   ]
  },
  {
   "cell_type": "code",
   "execution_count": 51,
   "metadata": {},
   "outputs": [
    {
     "name": "stdout",
     "output_type": "stream",
     "text": [
      "                                                                                     *                                                                  *            *                                                                *           *                                                              *                 *                    *                                                      *                      *                                                    *                                                             *                              *                                            *                              *                                          *                  *                                          *                              *                                               *                            *                                           *                          *                                                      *                    *                                                       *                  *                                             *                                                                  *      *                                                   *    *                                                                         *    *                                                                        *      *                                                                  *        *                                                              *                      *                                                      *                        *                                                   *                          *                                              *                            *                                  *                                             *                                  *                               *                                    *                                   *                                                *                                      *                      *                                                            *              *                                                              *                                                         *           *                                                                    *       *                                                                      *                                                     *                                                                                 *\r"
     ]
    }
   ],
   "source": [
    "from time import sleep\n",
    "\n",
    "def init_bar(bar, length=80):\n",
    "    bar = list()\n",
    "    for i in range(length):\n",
    "        bar.append(' ')\n",
    "    return bar\n",
    "\n",
    "def clear_bar(bar):\n",
    "    for i in range(len(bar)):\n",
    "        bar[i] = ' '\n",
    "\n",
    "        \n",
    "def init_ants(bar_length = 80):\n",
    "    ants = list()\n",
    "    ants.append({'position':0, 'direction':1})\n",
    "    ants.append({'position': bar_length-1, 'direction': -1})\n",
    "    return ants\n",
    " \n",
    "def update_bar(bar,ants):\n",
    "    clear_bar(bar)\n",
    "    for ant in ants:\n",
    "        if 0<=ant['position'] < len(bar):\n",
    "            bar[ant['position']]='*'\n",
    "        \n",
    "def is_bar_empty(bar):\n",
    "    for item in bar:\n",
    "        if not item ==' ':\n",
    "            return False\n",
    "    return True\n",
    "\n",
    "def show_bar(bar):\n",
    "    for ch in bar:\n",
    "        print(ch, sep='', end='')\n",
    "    print('',end = '\\r')\n",
    "    \n",
    "def update_ants(ants):\n",
    "    for ant in ants:\n",
    "        ant['position']+=ant['direction']\n",
    "    \n",
    "bar = init_bar(80)\n",
    "ants = init_ants()\n",
    "\n",
    "update_bar(bar,ants)\n",
    "show_bar(bar)\n",
    "    \n",
    "while not is_bar_empty(bar):\n",
    "    sleep(0.2)\n",
    "    update_ants(ants)\n",
    "    update_bar(bar,ants)\n",
    "    show_bar(bar)"
   ]
  },
  {
   "cell_type": "code",
   "execution_count": null,
   "metadata": {},
   "outputs": [],
   "source": []
  }
 ],
 "metadata": {
  "kernelspec": {
   "display_name": "Python 3",
   "language": "python",
   "name": "python3"
  },
  "language_info": {
   "codemirror_mode": {
    "name": "ipython",
    "version": 3
   },
   "file_extension": ".py",
   "mimetype": "text/x-python",
   "name": "python",
   "nbconvert_exporter": "python",
   "pygments_lexer": "ipython3",
   "version": "3.6.3"
  }
 },
 "nbformat": 4,
 "nbformat_minor": 4
}
